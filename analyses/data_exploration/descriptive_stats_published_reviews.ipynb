{
 "cells": [
  {
   "cell_type": "markdown",
   "metadata": {},
   "source": [
    "# Descriptive statistics for published reviews (metadata)"
   ]
  },
  {
   "cell_type": "code",
   "execution_count": null,
   "metadata": {},
   "outputs": [],
   "source": [
    "%matplotlib inline\n",
    "import pandas as pd\n",
    "import matplotlib.pyplot as plt\n",
    "import seaborn as sns"
   ]
  },
  {
   "cell_type": "code",
   "execution_count": null,
   "metadata": {},
   "outputs": [],
   "source": [
    "# read in file\n",
    "\n",
    "filename = '../../../../../../data/raw/20190618_published_reviews.csv'\n",
    "\n",
    "reviews = pd.read_csv(filename)\n",
    "\n",
    "reviews.drop([col for col in reviews.columns if 'Unnamed' in col], axis=1, inplace=True)\n",
    "\n",
    "reviews.head()\n"
   ]
  },
  {
   "cell_type": "markdown",
   "metadata": {},
   "source": [
    "## Assessing Duplicates"
   ]
  },
  {
   "cell_type": "markdown",
   "metadata": {},
   "source": [
    "There seem to be more unique IDs than titles! ie: some titles occur with multiple CD numbers"
   ]
  },
  {
   "cell_type": "code",
   "execution_count": null,
   "metadata": {},
   "outputs": [],
   "source": [
    "print(\"Unique CD numbers: \")\n",
    "print(len(reviews['CD Number'].unique()))\n",
    "\n",
    "print(\"Unique titles: \")\n",
    "print(len(reviews['Review Title'].unique()))"
   ]
  },
  {
   "cell_type": "code",
   "execution_count": null,
   "metadata": {},
   "outputs": [],
   "source": [
    "# define duplicate columns\n",
    "reviews['duplicate_CD_title'] = reviews.duplicated(subset=['CD Number', 'Review Title'], keep=False)\n",
    "reviews['duplicate_CD'] = reviews.duplicated(subset=['CD Number'], keep=False)\n",
    "reviews['duplicate_title'] = reviews.duplicated(subset=['Review Title'], keep=False)"
   ]
  },
  {
   "cell_type": "markdown",
   "metadata": {},
   "source": [
    "The combination of a CD number and title occurs more than once for 7 rows."
   ]
  },
  {
   "cell_type": "code",
   "execution_count": null,
   "metadata": {},
   "outputs": [],
   "source": [
    "reviews[reviews['duplicate_CD_title']]"
   ]
  },
  {
   "cell_type": "markdown",
   "metadata": {},
   "source": [
    "CD numbers occur more than once in 7 rows - same rows as above."
   ]
  },
  {
   "cell_type": "code",
   "execution_count": null,
   "metadata": {},
   "outputs": [],
   "source": [
    "reviews[reviews['duplicate_CD']]"
   ]
  },
  {
   "cell_type": "markdown",
   "metadata": {},
   "source": [
    "Multiple titles occur more than once, sometimes with different CD numbers."
   ]
  },
  {
   "cell_type": "code",
   "execution_count": null,
   "metadata": {
    "scrolled": true
   },
   "outputs": [],
   "source": [
    "reviews[reviews['duplicate_title']]"
   ]
  },
  {
   "cell_type": "markdown",
   "metadata": {},
   "source": [
    "## Descriptive statistics\n",
    "\n",
    "### Studies per Review Group"
   ]
  },
  {
   "cell_type": "markdown",
   "metadata": {},
   "source": [
    "We first assess the number of reviews that exists for each Review Group. On average, a Review Group has produced 141 studies, but the standard deviation is quite large, indicating that this number varies a lot across the groups."
   ]
  },
  {
   "cell_type": "code",
   "execution_count": null,
   "metadata": {},
   "outputs": [],
   "source": [
    "# descriptive stats for reviews per group\n",
    "print(reviews[\"Group\"].value_counts().describe())"
   ]
  },
  {
   "cell_type": "code",
   "execution_count": null,
   "metadata": {},
   "outputs": [],
   "source": [
    "reviews[\"Group\"].value_counts().iloc[:10][::-1].plot(kind=\"barh\", title=\"Number of reviews per group - top 10\")"
   ]
  },
  {
   "cell_type": "markdown",
   "metadata": {},
   "source": [
    "### Review status: Publication Flag\n",
    "\n",
    "It seems that a review can have one of six publication flags. What do each of these mean?"
   ]
  },
  {
   "cell_type": "code",
   "execution_count": null,
   "metadata": {
    "scrolled": true
   },
   "outputs": [],
   "source": [
    "reviews[\"Publication Flag\"].value_counts().iloc[::-1]#.plot(kind=\"barh\", title=\"Status of reviews count\", color=\"#34495E\")"
   ]
  },
  {
   "cell_type": "markdown",
   "metadata": {},
   "source": [
    "The plot belows shows the distribution (in %) over Publication Flags by Review Group. It seems that most groups have a similar proportion of studies in each group, although there are some outliers. "
   ]
  },
  {
   "cell_type": "code",
   "execution_count": null,
   "metadata": {},
   "outputs": [],
   "source": [
    "status_by_group = reviews.groupby([\"Group\", \"Publication Flag\"]).agg({'CD Number':'count'})\n",
    "status_by_group_pct = status_by_group.groupby(level=0).apply(lambda x: 100 * x / float(x.sum()) ).reset_index()\n",
    "status_by_group_pct = status_by_group_pct.pivot(index='Group', columns='Publication Flag').fillna(value=0).round(2)\n",
    "plt.figure(figsize=(18,24))\n",
    "plt.title(\"Distribution (in %) over Publication Flag by Review Group\")\n",
    "sns.heatmap(status_by_group_pct, annot=True)"
   ]
  }
 ],
 "metadata": {
  "kernelspec": {
   "display_name": "Python 3",
   "language": "python",
   "name": "python3"
  },
  "language_info": {
   "codemirror_mode": {
    "name": "ipython",
    "version": 3
   },
   "file_extension": ".py",
   "mimetype": "text/x-python",
   "name": "python",
   "nbconvert_exporter": "python",
   "pygments_lexer": "ipython3",
   "version": "3.6.8"
  }
 },
 "nbformat": 4,
 "nbformat_minor": 2
}
