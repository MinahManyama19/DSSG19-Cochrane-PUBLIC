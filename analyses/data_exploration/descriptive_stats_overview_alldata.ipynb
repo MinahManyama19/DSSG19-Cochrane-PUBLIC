{
 "cells": [
  {
   "cell_type": "markdown",
   "metadata": {},
   "source": [
    "# Cochrane: descriptive statistics"
   ]
  },
  {
   "cell_type": "markdown",
   "metadata": {},
   "source": [
    "This notebook gives a high-level overview of the descriptive statistics created for the Cochcrane project. For more in-depth exploratory data analysis of the individual datasets, see the other notebooks in this folder."
   ]
  },
  {
   "cell_type": "code",
   "execution_count": null,
   "metadata": {},
   "outputs": [],
   "source": [
    "%matplotlib inline\n",
    "import pandas as pd\n",
    "import matplotlib.pyplot as plt\n",
    "import seaborn as sns\n",
    "import json, os\n",
    "from collections import Counter, defaultdict, OrderedDict\n",
    "import numpy as np\n",
    "from statistics import mean\n",
    "from xml.etree import ElementTree\n",
    "import codecs\n",
    "import glob\n",
    "from lxml import etree"
   ]
  },
  {
   "cell_type": "markdown",
   "metadata": {},
   "source": [
    "## Published medical science"
   ]
  },
  {
   "cell_type": "markdown",
   "metadata": {},
   "source": [
    "Cochrane produces systematic reviews, that attempt to give a state-of-the-art answer to a medical research question. To do this, it synthesizes (a.o.) research that is published in papers. Only a very small proportion of studies that have been considered by Cochrane (i.e. exist in its databases) have been included in reviews, meaning that the signal-to-noise ratio is very low."
   ]
  },
  {
   "cell_type": "markdown",
   "metadata": {},
   "source": [
    "<style type=\"text/css\">\n",
    ".tg  {border-collapse:collapse;border-spacing:0;}\n",
    ".tg td{font-family:Arial, sans-serif;font-size:14px;padding:10px 5px;border-style:solid;border-width:1px;overflow:hidden;word-break:normal;border-color:black;}\n",
    ".tg th{font-family:Arial, sans-serif;font-size:14px;font-weight:normal;padding:10px 5px;border-style:solid;border-width:1px;overflow:hidden;word-break:normal;border-color:black;}\n",
    ".tg .tg-0pky{border-color:inherit;text-align:left;vertical-align:top}\n",
    ".tg .tg-fymr{font-weight:bold;border-color:inherit;text-align:left;vertical-align:top}\n",
    "</style>\n",
    "<table class=\"tg\">\n",
    "  <tr>\n",
    "    <th class=\"tg-0pky\"></th>\n",
    "    <th class=\"tg-0pky\"></th>\n",
    "    <th class=\"tg-fymr\" colspan=\"2\">in Review Group<br></th>\n",
    "  </tr>\n",
    "  <tr>\n",
    "    <td class=\"tg-0pky\"></td>\n",
    "    <td class=\"tg-0pky\"></td>\n",
    "    <td class=\"tg-0pky\">Yes</td>\n",
    "    <td class=\"tg-0pky\">No</td>\n",
    "  </tr>\n",
    "  <tr>\n",
    "    <td class=\"tg-fymr\" rowspan=\"2\">in Review</td>\n",
    "    <td class=\"tg-0pky\">Yes</td>\n",
    "    <td class=\"tg-0pky\">158.024</td>\n",
    "    <td class=\"tg-0pky\">67.721</td>\n",
    "  </tr>\n",
    "  <tr>\n",
    "    <td class=\"tg-0pky\">No</td>\n",
    "    <td class=\"tg-0pky\">340.871</td>\n",
    "    <td class=\"tg-0pky\">861.494</td>\n",
    "  </tr>\n",
    "</table>"
   ]
  },
  {
   "cell_type": "markdown",
   "metadata": {},
   "source": [
    "## Systematic reviews produced by Cochrane"
   ]
  },
  {
   "cell_type": "markdown",
   "metadata": {},
   "source": [
    "Cochrane is organized in 53 Review Groups. Each of these look after a domain area for which they produce systematic reviews."
   ]
  },
  {
   "cell_type": "code",
   "execution_count": null,
   "metadata": {},
   "outputs": [],
   "source": [
    "# for overview file with published reviews\n",
    "\n",
    "filename = '/data/raw/20190618_published_reviews.csv'\n",
    "\n",
    "reviews = pd.read_csv(filename)\n",
    "\n",
    "reviews.drop([col for col in reviews.columns if 'Unnamed' in col], axis=1, inplace=True)"
   ]
  },
  {
   "cell_type": "code",
   "execution_count": null,
   "metadata": {},
   "outputs": [],
   "source": [
    "# General stats\n",
    "# number of reviews, number of reviews per review group\n",
    "print(\"The total numer of reviews is {}.\".format(reviews[\"Group\"].value_counts().sum()))\n",
    "print(\"The average number of reviews per group is {}, with a \\\n",
    "standard deviation of {}.\".format(round(reviews[\"Group\"].value_counts().mean(),1),\n",
    "                                round(reviews[\"Group\"].value_counts().std(),1)))"
   ]
  },
  {
   "cell_type": "markdown",
   "metadata": {},
   "source": [
    "The cells below show the 10 Review Groups with the highest vs. the lowest number of reviews."
   ]
  },
  {
   "cell_type": "code",
   "execution_count": null,
   "metadata": {},
   "outputs": [],
   "source": [
    "reviews[\"Group\"].value_counts()[:10][::-1].plot(kind=\"barh\", title=\"Number of reviews per group - top 10\")"
   ]
  },
  {
   "cell_type": "code",
   "execution_count": null,
   "metadata": {},
   "outputs": [],
   "source": [
    "reviews[\"Group\"].value_counts()[::-1][:10].plot(kind=\"barh\", title=\"Number of reviews per group - bottom 10\")"
   ]
  },
  {
   "cell_type": "markdown",
   "metadata": {},
   "source": [
    "Reviews can have one of six statuses. The total number of studies per status is displayed below."
   ]
  },
  {
   "cell_type": "code",
   "execution_count": null,
   "metadata": {
    "tags": [
     "hide_input"
    ]
   },
   "outputs": [],
   "source": [
    "reviews[\"Publication Flag\"].value_counts().iloc[::-1].plot(kind=\"barh\", title=\"Status of reviews count\")"
   ]
  },
  {
   "cell_type": "markdown",
   "metadata": {},
   "source": [
    "The plot belows shows the distribution (in %) over Publication Flags by Review Group. It seems that most groups have a similar proportion of studies in each group, although there are some outliers. "
   ]
  },
  {
   "cell_type": "code",
   "execution_count": null,
   "metadata": {
    "scrolled": true
   },
   "outputs": [],
   "source": [
    "status_by_group = reviews.groupby([\"Group\", \"Publication Flag\"]).agg({'CD Number':'count'})\n",
    "status_by_group_pct = status_by_group.groupby(level=0).apply(lambda x: 100 * x / float(x.sum()) ).reset_index()\n",
    "status_by_group_pct = status_by_group_pct.pivot(index='Group', columns='Publication Flag').fillna(value=0).round(2)\n",
    "plt.figure(figsize=(18,24))\n",
    "plt.title(\"Distribution (in %) over Publication Flag by Review Group\")\n",
    "sns.heatmap(status_by_group_pct, annot=True)"
   ]
  },
  {
   "cell_type": "markdown",
   "metadata": {},
   "source": [
    "Linking published research to reviews, the table below provides details on the number of studies included per review."
   ]
  },
  {
   "cell_type": "markdown",
   "metadata": {},
   "source": [
    "<style type=\"text/css\">\n",
    ".tg  {border-collapse:collapse;border-spacing:0;}\n",
    ".tg td{font-family:Arial, sans-serif;font-size:14px;padding:10px 5px;border-style:solid;border-width:1px;overflow:hidden;word-break:normal;border-color:black;}\n",
    ".tg th{font-family:Arial, sans-serif;font-size:14px;font-weight:normal;padding:10px 5px;border-style:solid;border-width:1px;overflow:hidden;word-break:normal;border-color:black;}\n",
    ".tg .tg-0lax{text-align:left;vertical-align:top}\n",
    "</style>\n",
    "<table class=\"tg\">\n",
    "  <tr>\n",
    "    <th class=\"tg-0lax\"></th>\n",
    "    <th class=\"tg-0lax\">Mean</th>\n",
    "    <th class=\"tg-0lax\">Median</th>\n",
    "  </tr>\n",
    "  <tr>\n",
    "    <td class=\"tg-0lax\">Included studies</td>\n",
    "    <td class=\"tg-0lax\">14.30</td>\n",
    "    <td class=\"tg-0lax\">7</td>\n",
    "  </tr>\n",
    "  <tr>\n",
    "    <td class=\"tg-0lax\">Excluded studies</td>\n",
    "    <td class=\"tg-0lax\">28.59</td>\n",
    "    <td class=\"tg-0lax\">14</td>\n",
    "  </tr>\n",
    "</table>"
   ]
  },
  {
   "cell_type": "markdown",
   "metadata": {},
   "source": [
    "## PICO Annotations"
   ]
  },
  {
   "cell_type": "markdown",
   "metadata": {},
   "source": [
    "Cochrane has started adding PICO annotations to reviews and other documents (papers) in its database. Automation of PICO labels could be considered a productive avenue of exploration, as having the PICO labels of a document means that it is very easy to determine whether this paper is relevant to a particular review. However, as the data is currently not sufficient to build a system for automatic PICO labelling, we will not pursue this route in the present project."
   ]
  },
  {
   "cell_type": "code",
   "execution_count": null,
   "metadata": {},
   "outputs": [],
   "source": [
    "os.chdir(r'/data/raw/annotations')"
   ]
  },
  {
   "cell_type": "code",
   "execution_count": null,
   "metadata": {},
   "outputs": [],
   "source": [
    "# saving annotations to list of dicts\n",
    "all_annotations = []\n",
    "\n",
    "# keeping track of the files that fail\n",
    "failed_files = []\n",
    "\n",
    "for filename in os.listdir('.'):\n",
    "    if filename.endswith('.json'):\n",
    "\n",
    "        with open(filename, encoding='utf-8', errors='ignore') as f:\n",
    "            \n",
    "            try:\n",
    "                # file is read: append its annotations\n",
    "                file = json.load(f)\n",
    "                \n",
    "                for i in range(len(file['results'])):\n",
    "                    annotation = file['results'][i]\n",
    "                    all_annotations.append(annotation)\n",
    "                \n",
    "            except:\n",
    "                # file cannot be read\n",
    "                failed_files.append(filename)            "
   ]
  },
  {
   "cell_type": "markdown",
   "metadata": {},
   "source": [
    "The bar chart below shows the top-10 of Review Groups with the largest number of reviews and studies with a PICO annotation. It seems that some Review Groups have been very active, but the number of annotations drops very quickly for the other groups."
   ]
  },
  {
   "cell_type": "code",
   "execution_count": null,
   "metadata": {},
   "outputs": [],
   "source": [
    "# count how many annotations exist per review group\n",
    "labels_per_group = Counter()\n",
    "\n",
    "for annotation in all_annotations:\n",
    "    \n",
    "    try:\n",
    "        labels_per_group[annotation['reviewGroupLabel']] += 1\n",
    "    \n",
    "    # some annotations have the group label duplicated in the list\n",
    "    except:\n",
    "        \n",
    "        try:\n",
    "            labels_per_group[annotation['reviewGroupLabel'][0]] += 1\n",
    "        \n",
    "        # a small number of annotations lack reviewGroupLabel altogether\n",
    "        except:\n",
    "            pass\n",
    "        \n",
    "         \n",
    "    \n",
    "labels_per_group_df = pd.DataFrame.from_dict(labels_per_group, orient='index').reset_index()\n",
    "labels_per_group_df.rename(columns={'index': 'review_group', 0:'annotations'}, inplace=True)\n",
    "\n",
    "group, count = zip(*labels_per_group.most_common(10))\n",
    "sns.barplot(y=list(group), x=list(count),orient=\"h\")\n",
    "plt.title(\"Annotations per Review Group - top 10\")"
   ]
  },
  {
   "cell_type": "markdown",
   "metadata": {},
   "source": [
    "The PICO chart below shows how often the PICO labels in our dataset have been used. More than half of the PICO labels have only been applied 5 times or less (meaning that there is very little training data to learn where these labels can be applied)."
   ]
  },
  {
   "cell_type": "code",
   "execution_count": null,
   "metadata": {},
   "outputs": [],
   "source": [
    "# count the PICO labels for all variables\n",
    "\n",
    "pico_counter = Counter()\n",
    "variables = [\"implicitMaterial\", \"sex\", \"outcomeClassfication\", \"implicitCondition\", \n",
    "            \"condition\", \"material\", \"interventionClassification\", \"age\"]\n",
    "no_var = 0\n",
    "total_count = 0\n",
    "all_labels = []\n",
    "\n",
    "for annotation in all_annotations:\n",
    "    \n",
    "    for var in variables:\n",
    "    \n",
    "        try:\n",
    "            if isinstance(annotation[var], list):\n",
    "                for link in annotation[var]:\n",
    "                    pico_counter[link] += 1\n",
    "                    total_count += 1\n",
    "                    all_labels.append(link)\n",
    "            else:\n",
    "                pico_counter[annotation[var]] += 1\n",
    "                total_count += 1\n",
    "                all_labels.append(annotation[var])\n",
    "        except:\n",
    "            no_var += 1\n",
    "            \n",
    "pico_counter_tresholds = {'x <= 5': len([pico_counter[x] for x in pico_counter if pico_counter[x] < 5]),\n",
    "                         '5 < x <= 10': len([pico_counter[x] for x in pico_counter if pico_counter[x] <= 10 and pico_counter[x] > 5]),\n",
    "                         '10 < x <= 100': len([pico_counter[x] for x in pico_counter if pico_counter[x] <= 100 and pico_counter[x] > 10]),\n",
    "                         '100 < x <= 500': len([pico_counter[x] for x in pico_counter if pico_counter[x] <= 500 and pico_counter[x] > 100]),\n",
    "                         '500 < x': len([pico_counter[x] for x in pico_counter if pico_counter[x] > 500])}\n",
    "\n",
    "fig, ax = plt.subplots()\n",
    "patches, b, c = ax.pie(pico_counter_tresholds.values(), autopct='%1.1f%%')#, colors=sns.color_palette(\"Blues\"))\n",
    "plt.legend(patches, pico_counter_tresholds.keys(), loc='best')\n",
    "plt.axis('equal')\n",
    "plt.title(\"Frequency of use of PICO labels\")\n",
    "plt.tight_layout()"
   ]
  },
  {
   "cell_type": "markdown",
   "metadata": {},
   "source": [
    "## How many studies are in reviews?"
   ]
  },
  {
   "cell_type": "code",
   "execution_count": null,
   "metadata": {},
   "outputs": [],
   "source": [
    "folder = '/data/raw/reviews/'\n",
    "all_files = glob.glob(folder + \"*.rm5\")\n",
    "\n",
    "num_included_studies = []\n",
    "num_excluded_studies = []\n",
    "num_awaiting_studies = []\n",
    "num_ongoing_studies = []\n",
    "for file_ in all_files: #over 7k files\n",
    "    root = etree.parse(file_)\n",
    "    included_studies = root.xpath('/COCHRANE_REVIEW/CHARACTERISTICS_OF_STUDIES/CHARACTERISTICS_OF_INCLUDED_STUDIES/INCLUDED_CHAR')\n",
    "    excluded_studies = root.xpath('/COCHRANE_REVIEW/CHARACTERISTICS_OF_STUDIES/CHARACTERISTICS_OF_EXCLUDED_STUDIES/EXCLUDED_CHAR')\n",
    "    awaiting_studies = root.xpath('/COCHRANE_REVIEW/CHARACTERISTICS_OF_STUDIES/CHARACTERISTICS_OF_AWAITING_STUDIES/AWAITING_CHAR')\n",
    "    ongoing_studies = root.xpath('/COCHRANE_REVIEW/CHARACTERISTICS_OF_STUDIES/CHARACTERISTICS_OF_ONGOING_STUDIES/ONGOING_CHAR')\n",
    "    num_included_studies.append(len(included_studies))\n",
    "    num_excluded_studies.append(len(excluded_studies))\n",
    "    num_awaiting_studies.append(len(awaiting_studies))\n",
    "    num_ongoing_studies.append(len(ongoing_studies))"
   ]
  },
  {
   "cell_type": "code",
   "execution_count": null,
   "metadata": {},
   "outputs": [],
   "source": [
    "fig = plt.figure(figsize=(20,10))\n",
    "plt.subplot(221)\n",
    "plt.hist(num_included_studies)\n",
    "plt.title(\"Number of included studies in a review\", fontsize=20)\n",
    "plt.subplot(222)\n",
    "plt.hist(num_excluded_studies)\n",
    "plt.title(\"Number of excluded studies in a review\", fontsize=20)\n",
    "plt.subplot(223)\n",
    "plt.hist(num_awaiting_studies)\n",
    "plt.title(\"Number of awaiting studies in a review\", fontsize=20)\n",
    "plt.subplot(224)\n",
    "plt.hist(num_ongoing_studies)\n",
    "plt.title(\"Number of ongoing studies in a review\", fontsize=20);"
   ]
  }
 ],
 "metadata": {
  "celltoolbar": "Edit Metadata",
  "kernelspec": {
   "display_name": "Python 3",
   "language": "python",
   "name": "python3"
  },
  "language_info": {
   "codemirror_mode": {
    "name": "ipython",
    "version": 3
   },
   "file_extension": ".py",
   "mimetype": "text/x-python",
   "name": "python",
   "nbconvert_exporter": "python",
   "pygments_lexer": "ipython3",
   "version": "3.6.8"
  }
 },
 "nbformat": 4,
 "nbformat_minor": 2
}
