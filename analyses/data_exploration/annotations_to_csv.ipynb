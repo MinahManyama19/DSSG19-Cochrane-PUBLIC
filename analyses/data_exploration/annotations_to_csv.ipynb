{
 "cells": [
  {
   "cell_type": "code",
   "execution_count": null,
   "metadata": {},
   "outputs": [],
   "source": [
    "import json, os\n",
    "import pandas as pd\n",
    "from bs4 import BeautifulSoup\n",
    "from requests import get\n",
    "from requests.exceptions import RequestException\n",
    "from contextlib import closing\n",
    "import json"
   ]
  },
  {
   "cell_type": "code",
   "execution_count": null,
   "metadata": {},
   "outputs": [],
   "source": [
    "# saving annotations to list of dicts\n",
    "all_annotations = []\n",
    "\n",
    "# keeping track of the files that fail\n",
    "failed_files = []\n",
    "\n",
    "for filename in os.listdir('.'):\n",
    "    if filename.endswith('.json'):\n",
    "\n",
    "        with open(filename, encoding='utf-8', errors='ignore') as f:\n",
    "            \n",
    "            try:\n",
    "                # file is read: append its annotations\n",
    "                file = json.load(f)\n",
    "                \n",
    "                for i in range(len(file['results'])):\n",
    "                    annotation = file['results'][i]\n",
    "                    all_annotations.append(annotation)\n",
    "                \n",
    "            except:\n",
    "                # file cannot be read\n",
    "                failed_files.append(filename)\n",
    "            \n",
    "                       \n",
    "len(failed_files)\n",
    "\n",
    "annotations_df_raw = pd.DataFrame(all_annotations)"
   ]
  },
  {
   "cell_type": "code",
   "execution_count": null,
   "metadata": {},
   "outputs": [],
   "source": [
    "annotations_df_raw.head()"
   ]
  },
  {
   "cell_type": "code",
   "execution_count": null,
   "metadata": {},
   "outputs": [],
   "source": [
    "def simple_get(url):\n",
    "    \"\"\"\n",
    "    Attempts to get the content at `url` by making an HTTP GET request.\n",
    "    If the content-type of response is some kind of HTML/XML, return the\n",
    "    text content, otherwise return None\n",
    "    \"\"\"\n",
    "    try:\n",
    "        with closing(get(url, stream=True)) as resp:\n",
    "            return resp.content\n",
    "    except RequestException as e:\n",
    "        print('The following error occurred during HTTP GET request to {0} : {1}'.format(url, str(e)))\n",
    "    \n",
    "    return None\n",
    "\n",
    "\n",
    "\n",
    "def is_good_response(resp):\n",
    "    \"\"\"\n",
    "    Returns true if the response seems to be HTML, false otherwise\n",
    "    \"\"\"\n",
    "    content_type = resp.headers['Content-Type'].lower()\n",
    "    return (resp.status_code == 200\n",
    "               and content_type is not None\n",
    "    and content_type.find('html') > -1)"
   ]
  },
  {
   "cell_type": "code",
   "execution_count": null,
   "metadata": {},
   "outputs": [],
   "source": [
    "# separate \"raw\" and cleaned annotations\n",
    "cleaned_annotations = all_annotations\n",
    "\n",
    "\n",
    "for cnt, annotation in enumerate(cleaned_annotations):\n",
    "    \n",
    "    # print progress\n",
    "    if cnt % 5 == 0:\n",
    "        print(str(cnt) + \" annotations done.\")\n",
    "\n",
    "    for key in annotation.keys():\n",
    "        \n",
    "        try:\n",
    "\n",
    "            # list of urls\n",
    "            if isinstance(annotation[key], list):\n",
    "\n",
    "                # check if we are looking at PICO concepts that should be extracted from the web\n",
    "                if '/concepts/' in annotation[key][0]:\n",
    "\n",
    "                    # PICO concepts will be added to list\n",
    "                    ann_list = []\n",
    "\n",
    "                    for entry in annotation[key]:\n",
    "\n",
    "                        webpage = simple_get(\"http://data.cochrane.org/search/concepts?ids=\" + entry)\n",
    "                        json_var = json.loads(webpage)\n",
    "\n",
    "                        ann_list.append(json_var['label'])\n",
    "\n",
    "                    annotation[key] = ann_list\n",
    "\n",
    "            # single URL\n",
    "            else:\n",
    "\n",
    "                if '/concepts/' in annotation[key]:\n",
    "\n",
    "                    webpage = simple_get(\"http://data.cochrane.org/search/concepts?ids=\" + annotation[key])\n",
    "                    json_var = json.loads(webpage)\n",
    "\n",
    "                    annotation[key] = json_var['label']\n",
    "                    \n",
    "        except:\n",
    "            print(\"Variable \" + key + \" from annotation \" + str(cnt) + \" failed.\")\n",
    "                \n",
    "\n"
   ]
  },
  {
   "cell_type": "code",
   "execution_count": null,
   "metadata": {},
   "outputs": [],
   "source": [
    "annotations_df_cleaned = pd.DataFrame(cleaned_annotations)\n",
    "annotations_df_cleaned.to_csv('cleaned_annotations.csv')"
   ]
  }
 ],
 "metadata": {
  "kernelspec": {
   "display_name": "Python 3",
   "language": "python",
   "name": "python3"
  },
  "language_info": {
   "codemirror_mode": {
    "name": "ipython",
    "version": 3
   },
   "file_extension": ".py",
   "mimetype": "text/x-python",
   "name": "python",
   "nbconvert_exporter": "python",
   "pygments_lexer": "ipython3",
   "version": "3.6.8"
  }
 },
 "nbformat": 4,
 "nbformat_minor": 2
}
