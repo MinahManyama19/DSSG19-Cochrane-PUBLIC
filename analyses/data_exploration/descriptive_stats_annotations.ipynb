{
 "cells": [
  {
   "cell_type": "markdown",
   "metadata": {},
   "source": [
    "# Descriptive statistics for annotations file\n",
    "\n",
    "## Reading the data"
   ]
  },
  {
   "cell_type": "code",
   "execution_count": null,
   "metadata": {},
   "outputs": [],
   "source": [
    "import json, os\n",
    "from collections import Counter, defaultdict, OrderedDict\n",
    "import numpy as np\n",
    "import matplotlib.pyplot as plt\n",
    "import seaborn as sns\n",
    "from statistics import mean\n",
    "import pandas as pd"
   ]
  },
  {
   "cell_type": "code",
   "execution_count": null,
   "metadata": {},
   "outputs": [],
   "source": [
    "os.chdir(r'/data/raw/annotations')"
   ]
  },
  {
   "cell_type": "code",
   "execution_count": null,
   "metadata": {},
   "outputs": [],
   "source": [
    "# saving annotations to list of dicts\n",
    "all_annotations = []\n",
    "\n",
    "# keeping track of the files that fail\n",
    "failed_files = []\n",
    "\n",
    "for filename in os.listdir('.'):\n",
    "    if filename.endswith('.json'):\n",
    "\n",
    "        with open(filename, encoding='utf-8', errors='ignore') as f:\n",
    "            \n",
    "            try:\n",
    "                # file is read: append its annotations\n",
    "                file = json.load(f)\n",
    "                \n",
    "                for i in range(len(file['results'])):\n",
    "                    annotation = file['results'][i]\n",
    "                    all_annotations.append(annotation)\n",
    "                \n",
    "            except:\n",
    "                # file cannot be read\n",
    "                failed_files.append(filename)\n",
    "            \n",
    "                       \n",
    "len(failed_files)\n",
    "            "
   ]
  },
  {
   "cell_type": "markdown",
   "metadata": {},
   "source": [
    "There are 91 files that cannot be read in. These are the following:"
   ]
  },
  {
   "cell_type": "code",
   "execution_count": null,
   "metadata": {},
   "outputs": [],
   "source": [
    "print(failed_files)"
   ]
  },
  {
   "cell_type": "markdown",
   "metadata": {},
   "source": [
    "## Annotations per Review Group"
   ]
  },
  {
   "cell_type": "markdown",
   "metadata": {},
   "source": [
    "The number of annotations for each Review Group is counted. This number varies across review groups. There are few groups with a very large number of annotations; many groups have only a few. Statistics provided below:"
   ]
  },
  {
   "cell_type": "code",
   "execution_count": null,
   "metadata": {},
   "outputs": [],
   "source": [
    "# count how many annotations exist per review group\n",
    "labels_per_group = Counter()\n",
    "\n",
    "for annotation in all_annotations:\n",
    "    \n",
    "    try:\n",
    "        labels_per_group[annotation['reviewGroupLabel']] += 1\n",
    "    \n",
    "    # some annotations have the group label duplicated in the list\n",
    "    except:\n",
    "        \n",
    "        try:\n",
    "            labels_per_group[annotation['reviewGroupLabel'][0]] += 1\n",
    "        \n",
    "        # a small number of annotations lack reviewGroupLabel altogether\n",
    "        except:\n",
    "            pass\n",
    "        \n",
    "         \n",
    "    \n",
    "labels_per_group_df = pd.DataFrame.from_dict(labels_per_group, orient='index').reset_index()\n",
    "labels_per_group_df.rename(columns={'index': 'review_group', 0:'annotations'}, inplace=True)\n",
    "labels_per_group_df.describe()"
   ]
  },
  {
   "cell_type": "code",
   "execution_count": null,
   "metadata": {},
   "outputs": [],
   "source": [
    "group, count = zip(*labels_per_group.most_common(10))\n",
    "sns.barplot(y=list(group), x=list(count),orient=\"h\")\n",
    "plt.title(\"Annotations per Review Group - top 10\")"
   ]
  },
  {
   "cell_type": "markdown",
   "metadata": {},
   "source": [
    "## Average number of labels applied per Review Group"
   ]
  },
  {
   "cell_type": "markdown",
   "metadata": {},
   "source": [
    "To get a further idea of the variance in the data, we consider the average number of PICO labels that is applied to an individual study/review across the Review Groups. We first look at the variable \"outcomeClassification\" and observe that the average number of PICO terms applied to one study/review varies a lot across the Review Groups."
   ]
  },
  {
   "cell_type": "code",
   "execution_count": null,
   "metadata": {},
   "outputs": [],
   "source": [
    "# count average the number of outcomes labels applied per group\n",
    "# (can be replaced by any other variable)\n",
    "\n",
    "vars_per_group = defaultdict(list)\n",
    "var = \"condition\"\n",
    "no_var = 0\n",
    "\n",
    "for annotation in all_annotations:\n",
    "    \n",
    "    try:\n",
    "        if isinstance(annotation[var], list):\n",
    "            vars_per_group[annotation[\"reviewGroupLabel\"]].append(len(annotation[var]))\n",
    "        else:\n",
    "            vars_per_group[annotation[\"reviewGroupLabel\"]].append(1)\n",
    "            \n",
    "    except:\n",
    "        no_var += 1\n",
    "\n",
    "for group in vars_per_group.keys():\n",
    "    vars_per_group[group] = mean(vars_per_group[group])\n",
    "    \n",
    "vars_per_group_df = pd.DataFrame.from_dict(vars_per_group, orient='index').reset_index()\n",
    "vars_per_group_df.rename(columns={'index':'review_group', 0:'pico_labels'}, inplace=True)\n",
    "vars_per_group_df.describe()"
   ]
  },
  {
   "cell_type": "code",
   "execution_count": null,
   "metadata": {},
   "outputs": [],
   "source": [
    "group, avg = zip(*sorted(vars_per_group.items(), key=lambda k_v:k_v[1], reverse=True))\n",
    "plt.figure(figsize=(16,12))\n",
    "sns.barplot(y=list(group), x=list(avg),orient=\"h\")\n",
    "plt.title(\"Average number of PICO labels for {} applied per Review Group (overall mean: {})\".format(\n",
    "    var, str(round(mean(avg), 2))))"
   ]
  },
  {
   "cell_type": "markdown",
   "metadata": {},
   "source": [
    "## Count of PICO labels (for a single variable)"
   ]
  },
  {
   "cell_type": "markdown",
   "metadata": {},
   "source": [
    "To get a sense of how often individual PICO labels are used, we count the total number of times that a label is applied (for an individual variable)."
   ]
  },
  {
   "cell_type": "code",
   "execution_count": null,
   "metadata": {},
   "outputs": [],
   "source": [
    "# count the most popular PICO labels for a variable\n",
    "# (can be replaced by any other variable)\n",
    "\n",
    "pico_counter = Counter()\n",
    "var = \"outcomeClassification\"\n",
    "no_var = 0\n",
    "\n",
    "for annotation in all_annotations:\n",
    "    \n",
    "    try:\n",
    "        if isinstance(annotation[var], list):\n",
    "            for link in annotation[var]:\n",
    "                pico_counter[link] += 1\n",
    "        else:\n",
    "            pico_counter[annotation[var]] += 1\n",
    "            \n",
    "    except:\n",
    "        no_var += 1\n",
    "\n",
    "\n",
    "pico_counter_df = pd.DataFrame.from_dict(pico_counter, orient='index').reset_index()\n",
    "pico_counter_df.rename(columns={'index': 'pico_label', 0:'count'}, inplace=True)\n",
    "pico_counter_df.describe()"
   ]
  },
  {
   "cell_type": "code",
   "execution_count": null,
   "metadata": {},
   "outputs": [],
   "source": [
    "group, count = zip(*pico_counter.most_common(10))\n",
    "sns.barplot(y=list(group), x=list(count),orient=\"h\")\n",
    "plt.title(\"Most-used PICO labels for variable {} - top 10\".format(var))"
   ]
  },
  {
   "cell_type": "markdown",
   "metadata": {},
   "source": [
    "We are also interested in the distribution of PICO labels across all variables. "
   ]
  },
  {
   "cell_type": "code",
   "execution_count": null,
   "metadata": {},
   "outputs": [],
   "source": [
    "# count the most popular PICO labels for all variables\n",
    "\n",
    "pico_counter = Counter()\n",
    "variables = [\"implicitMaterial\", \"sex\", \"outcomeClassfication\", \"implicitCondition\", \n",
    "            \"condition\", \"material\", \"interventionClassification\", \"age\"]\n",
    "no_var = 0\n",
    "total_count = 0\n",
    "all_labels = []\n",
    "\n",
    "for annotation in all_annotations:\n",
    "    \n",
    "    for var in variables:\n",
    "    \n",
    "        try:\n",
    "            if isinstance(annotation[var], list):\n",
    "                for link in annotation[var]:\n",
    "                    pico_counter[link] += 1\n",
    "                    total_count += 1\n",
    "                    all_labels.append(link)\n",
    "            else:\n",
    "                pico_counter[annotation[var]] += 1\n",
    "                total_count += 1\n",
    "                all_labels.append(annotation[var])\n",
    "        except:\n",
    "            no_var += 1\n",
    "\n",
    "#print(pico_counter.most_common(20))\n",
    "#print(total_count)\n",
    "\n",
    "\n",
    "pico_counter_df = pd.DataFrame.from_dict(pico_counter, orient='index').reset_index()\n",
    "pico_counter_df.rename(columns={'index': 'pico_label', 0:'count'}, inplace=True)\n",
    "pico_counter_df.describe()\n"
   ]
  },
  {
   "cell_type": "markdown",
   "metadata": {},
   "source": [
    "There are 8446 different labels that are applied, which are applied 339406 times in total. On average, a PICO label is applied 40 times, but this distribution is highly skewed to the right. "
   ]
  },
  {
   "cell_type": "code",
   "execution_count": null,
   "metadata": {},
   "outputs": [],
   "source": [
    "group_most, count_most = zip(*pico_counter.most_common(100))\n",
    "g = sns.barplot(x=list(group_most), y=list(count_most),orient=\"v\")\n",
    "g.set(xticks=[])\n",
    "plt.title(\"Distribution of most-used PICO labels - top 100\")"
   ]
  },
  {
   "cell_type": "markdown",
   "metadata": {},
   "source": [
    "The pie chart below shows a distribution of the frequency of use of the PICO labels. For example, 57% of all PICO labels were applied only 5 times or less."
   ]
  },
  {
   "cell_type": "code",
   "execution_count": null,
   "metadata": {},
   "outputs": [],
   "source": [
    "pico_counter_tresholds = {'x <= 5': len([pico_counter[x] for x in pico_counter if pico_counter[x] < 5]),\n",
    "                         '5 < x <= 10': len([pico_counter[x] for x in pico_counter if pico_counter[x] <= 10 and pico_counter[x] > 5]),\n",
    "                         '10 < x <= 100': len([pico_counter[x] for x in pico_counter if pico_counter[x] <= 100 and pico_counter[x] > 10]),\n",
    "                         '100 < x <= 500': len([pico_counter[x] for x in pico_counter if pico_counter[x] <= 500 and pico_counter[x] > 100]),\n",
    "                         '500 < x': len([pico_counter[x] for x in pico_counter if pico_counter[x] > 500])}\n",
    "\n",
    "fig, ax = plt.subplots()\n",
    "patches, b, c = ax.pie(pico_counter_tresholds.values(), autopct='%1.1f%%')#, colors=sns.color_palette(\"Blues\"))\n",
    "plt.legend(patches, pico_counter_tresholds.keys(), loc='best')\n",
    "plt.axis('equal')\n",
    "plt.title(\"Frequency of use of PICO labels\")\n",
    "plt.tight_layout()"
   ]
  }
 ],
 "metadata": {
  "kernelspec": {
   "display_name": "Python 3",
   "language": "python",
   "name": "python3"
  },
  "language_info": {
   "codemirror_mode": {
    "name": "ipython",
    "version": 3
   },
   "file_extension": ".py",
   "mimetype": "text/x-python",
   "name": "python",
   "nbconvert_exporter": "python",
   "pygments_lexer": "ipython3",
   "version": "3.6.8"
  }
 },
 "nbformat": 4,
 "nbformat_minor": 2
}
