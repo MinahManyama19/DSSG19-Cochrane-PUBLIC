{
 "cells": [
  {
   "cell_type": "markdown",
   "metadata": {},
   "source": [
    "# Set Up"
   ]
  },
  {
   "cell_type": "code",
   "execution_count": null,
   "metadata": {},
   "outputs": [],
   "source": [
    "from xml.etree import ElementTree\n",
    "import codecs\n",
    "import glob\n",
    "from lxml import etree\n",
    "\n",
    "import random\n",
    "import matplotlib.pyplot as plt\n",
    "import numpy as np\n",
    "%matplotlib inline"
   ]
  },
  {
   "cell_type": "code",
   "execution_count": null,
   "metadata": {},
   "outputs": [],
   "source": [
    "folder = '/data/raw/reviews/'\n",
    "all_files = glob.glob(folder + \"*.rm5\")"
   ]
  },
  {
   "cell_type": "markdown",
   "metadata": {},
   "source": [
    "# Included/Excluded Studies"
   ]
  },
  {
   "cell_type": "code",
   "execution_count": null,
   "metadata": {},
   "outputs": [],
   "source": [
    "num_included_studies = []\n",
    "num_excluded_studies = []\n",
    "for file_ in all_files: #over 7k files\n",
    "    root = etree.parse(file_)\n",
    "    included_studies = root.xpath('/COCHRANE_REVIEW/CHARACTERISTICS_OF_STUDIES/CHARACTERISTICS_OF_INCLUDED_STUDIES/INCLUDED_CHAR')\n",
    "    excluded_studies = root.xpath('/COCHRANE_REVIEW/CHARACTERISTICS_OF_STUDIES/CHARACTERISTICS_OF_EXCLUDED_STUDIES/EXCLUDED_CHAR')\n",
    "    num_included_studies.append(len(included_studies))\n",
    "    num_excluded_studies.append(len(excluded_studies))"
   ]
  },
  {
   "cell_type": "code",
   "execution_count": null,
   "metadata": {},
   "outputs": [],
   "source": [
    "fig = plt.figure(figsize=(20,5))\n",
    "plt.subplot(121)\n",
    "plt.hist(num_included_studies)\n",
    "plt.title(\"Number of included studies in a review\", fontsize=20)\n",
    "plt.subplot(122)\n",
    "plt.hist(num_excluded_studies)\n",
    "plt.title(\"Number of excluded studies in a review\", fontsize=20);"
   ]
  },
  {
   "cell_type": "code",
   "execution_count": null,
   "metadata": {},
   "outputs": [],
   "source": [
    "print(\"Average number of included studies {0:.2f}\".format(np.mean(np.array(num_included_studies))))\n",
    "print(\"Median number of included studies {}\".format(np.median(np.array(num_included_studies))))\n",
    "print(\"Average number of excluded studies {0:.2f}\".format(np.mean(np.array(num_excluded_studies))))\n",
    "print(\"Median number of excluded studies {}\".format(np.median(np.array(num_excluded_studies))))"
   ]
  },
  {
   "cell_type": "code",
   "execution_count": null,
   "metadata": {},
   "outputs": [],
   "source": [
    "for i in [0, 1,2,3,4,5]:\n",
    "    num_reviews = np.sum(np.array(num_included_studies) <= i)\n",
    "    print(\"Number of reviews with {} or less studies included: {}\". format(i, num_reviews))"
   ]
  },
  {
   "cell_type": "markdown",
   "metadata": {},
   "source": [
    "For example, `Interventions for HIV-associated nephropathy` has no included studies but it does have excluded studies and ongoing studies. What do we do with this one?"
   ]
  },
  {
   "cell_type": "markdown",
   "metadata": {},
   "source": [
    "# Mesh terms and keywords\n",
    "\n",
    "Why are there no mesh terms or keywords for any of these reviews? Is this not the right place to access them? \n",
    "\n",
    "Do PICO terms live here anywhere?"
   ]
  },
  {
   "cell_type": "code",
   "execution_count": null,
   "metadata": {},
   "outputs": [],
   "source": [
    "all_mesh = []\n",
    "all_key = []\n",
    "num_mesh = 0\n",
    "num_key = 0\n",
    "for file_ in all_files:\n",
    "    root = etree.parse(file_)\n",
    "    mesh_terms = root.xpath('COCHRANE_REVIEW/COVER_SHEET/MESH_TERMS')\n",
    "    keywords = root.xpath('COCHRANE_REVIEW/COVER_SHEET/KEYWORDS')\n",
    "    if len(mesh_terms) > 0:\n",
    "        num_mesh += 1\n",
    "    if len(keywords) > 0:\n",
    "        num_key += 1\n",
    "    all_mesh.append(mesh_terms)\n",
    "    all_key.append(keywords)"
   ]
  },
  {
   "cell_type": "code",
   "execution_count": null,
   "metadata": {},
   "outputs": [],
   "source": [
    "print(\"Number of reviews for which there is at least one mesh term {} and at least one keyword {}.\"\n",
    "      .format(num_mesh, num_key))"
   ]
  },
  {
   "cell_type": "markdown",
   "metadata": {},
   "source": [
    "---"
   ]
  }
 ],
 "metadata": {
  "kernelspec": {
   "display_name": "Python 3",
   "language": "python",
   "name": "python3"
  },
  "language_info": {
   "codemirror_mode": {
    "name": "ipython",
    "version": 3
   },
   "file_extension": ".py",
   "mimetype": "text/x-python",
   "name": "python",
   "nbconvert_exporter": "python",
   "pygments_lexer": "ipython3",
   "version": "3.6.8"
  }
 },
 "nbformat": 4,
 "nbformat_minor": 2
}
